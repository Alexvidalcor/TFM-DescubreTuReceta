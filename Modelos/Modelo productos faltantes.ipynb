{
 "cells": [
  {
   "cell_type": "code",
   "execution_count": 192,
   "metadata": {},
   "outputs": [],
   "source": [
    "import pandas as pd\n",
    "import numpy as np\n",
    "import re\n",
    "import string\n",
    "from wordcloud import WordCloud\n",
    "import matplotlib.pyplot as plt\n",
    "import seaborn as sns\n",
    "\n",
    "import copy\n",
    "\n",
    "from gensim.models import Word2Vec\n",
    "from sklearn.cluster import KMeans\n"
   ]
  },
  {
   "cell_type": "code",
   "execution_count": 32,
   "metadata": {},
   "outputs": [],
   "source": [
    "#word2vec libraries\n",
    "import pandas as pd\n",
    "import numpy as np\n",
    "import re\n",
    "import copy\n",
    "from gensim.models import Word2Vec\n",
    "from sklearn.cluster import KMeans\n",
    "from pattern.text.en import singularize\n",
    "import matplotlib.pyplot as plt"
   ]
  },
  {
   "cell_type": "markdown",
   "metadata": {},
   "source": [
    "## Ingredientes recomendados que hacen falta para x receta\n",
    "La idea es que el cliente también pueda buscar qué productos le hacen falta para realizar la receta que quiere"
   ]
  },
  {
   "cell_type": "code",
   "execution_count": 3,
   "metadata": {},
   "outputs": [],
   "source": [
    "#Cargamos un dataset diferente:\n",
    "ingredients_recipes_listas = pd.read_csv(\"ingredients_recipes_prueba_ingredientes_listas.csv\")"
   ]
  },
  {
   "cell_type": "code",
   "execution_count": 4,
   "metadata": {},
   "outputs": [
    {
     "data": {
      "text/html": [
       "<div>\n",
       "<style scoped>\n",
       "    .dataframe tbody tr th:only-of-type {\n",
       "        vertical-align: middle;\n",
       "    }\n",
       "\n",
       "    .dataframe tbody tr th {\n",
       "        vertical-align: top;\n",
       "    }\n",
       "\n",
       "    .dataframe thead th {\n",
       "        text-align: right;\n",
       "    }\n",
       "</style>\n",
       "<table border=\"1\" class=\"dataframe\">\n",
       "  <thead>\n",
       "    <tr style=\"text-align: right;\">\n",
       "      <th></th>\n",
       "      <th>Unnamed: 0</th>\n",
       "      <th>title</th>\n",
       "      <th>ingredients_2</th>\n",
       "      <th>ingredients_3</th>\n",
       "    </tr>\n",
       "  </thead>\n",
       "  <tbody>\n",
       "    <tr>\n",
       "      <th>0</th>\n",
       "      <td>0</td>\n",
       "      <td>Lentil, Apple, and Turkey Wrap</td>\n",
       "      <td>['chicken', 'lentil', 'lentil', 'celery', 'pee...</td>\n",
       "      <td>['lowsodium vegetable chicken stock', 'dried b...</td>\n",
       "    </tr>\n",
       "    <tr>\n",
       "      <th>1</th>\n",
       "      <td>1</td>\n",
       "      <td>Boudin Blanc Terrine with Red Onion Confit</td>\n",
       "      <td>['cream', 'onion', 'salt', 'bay leaf', 'clove'...</td>\n",
       "      <td>['whipping cream', 'onion', 'salt', 'bay leaf'...</td>\n",
       "    </tr>\n",
       "    <tr>\n",
       "      <th>2</th>\n",
       "      <td>2</td>\n",
       "      <td>Potato and Fennel Soup Hodge</td>\n",
       "      <td>['fennel', 'onion', 'butter', 'potato', 'chick...</td>\n",
       "      <td>['fennel bulb sometimes called anise stalks di...</td>\n",
       "    </tr>\n",
       "    <tr>\n",
       "      <th>3</th>\n",
       "      <td>3</td>\n",
       "      <td>Mahi-Mahi in Tomato Olive Sauce</td>\n",
       "      <td>['oil', 'onion', 'dry white wine', 'anchovy', ...</td>\n",
       "      <td>['extravirgin olive oil', 'onion', 'dry white ...</td>\n",
       "    </tr>\n",
       "    <tr>\n",
       "      <th>4</th>\n",
       "      <td>4</td>\n",
       "      <td>Spinach Noodle Casserole</td>\n",
       "      <td>['spinach', 'egg', 'cream', 'sauce', 'nutmeg',...</td>\n",
       "      <td>['ounce package frozen spinach souffl thawed',...</td>\n",
       "    </tr>\n",
       "    <tr>\n",
       "      <th>...</th>\n",
       "      <td>...</td>\n",
       "      <td>...</td>\n",
       "      <td>...</td>\n",
       "      <td>...</td>\n",
       "    </tr>\n",
       "    <tr>\n",
       "      <th>20106</th>\n",
       "      <td>20125</td>\n",
       "      <td>Parmesan Puffs</td>\n",
       "      <td>['egg', 'parmigianoreggiano finely grated', 'o...</td>\n",
       "      <td>['egg white', 'parmigianoreggiano finely grate...</td>\n",
       "    </tr>\n",
       "    <tr>\n",
       "      <th>20107</th>\n",
       "      <td>20126</td>\n",
       "      <td>Artichoke and Parmesan Risotto</td>\n",
       "      <td>['chicken', 'divided', 'oil', 'onion', 'baby a...</td>\n",
       "      <td>['lowsalt chicken broth', 'butter divided', 'e...</td>\n",
       "    </tr>\n",
       "    <tr>\n",
       "      <th>20108</th>\n",
       "      <td>20127</td>\n",
       "      <td>Turkey Cream Puff Pie</td>\n",
       "      <td>['tomato', 'onion', 'butter', 'salt', 'white m...</td>\n",
       "      <td>['tomato', 'onion finely', 'unsalted butter', ...</td>\n",
       "    </tr>\n",
       "    <tr>\n",
       "      <th>20109</th>\n",
       "      <td>20128</td>\n",
       "      <td>Snapper on Angel Hair with Citrus Cream</td>\n",
       "      <td>['oil', 'shallots thinly', 'clove', 'clam', 'c...</td>\n",
       "      <td>['olive oil', 'shallots thinly', 'garlic clove...</td>\n",
       "    </tr>\n",
       "    <tr>\n",
       "      <th>20110</th>\n",
       "      <td>20129</td>\n",
       "      <td>Baked Ham with Marmalade-Horseradish Glaze</td>\n",
       "      <td>['ham', 'clove', 'water', 'marmalade', 'cream'...</td>\n",
       "      <td>['fully cooked bonein smoked ham room temperat...</td>\n",
       "    </tr>\n",
       "  </tbody>\n",
       "</table>\n",
       "<p>20111 rows × 4 columns</p>\n",
       "</div>"
      ],
      "text/plain": [
       "       Unnamed: 0                                        title  \\\n",
       "0               0              Lentil, Apple, and Turkey Wrap    \n",
       "1               1  Boudin Blanc Terrine with Red Onion Confit    \n",
       "2               2                Potato and Fennel Soup Hodge    \n",
       "3               3             Mahi-Mahi in Tomato Olive Sauce    \n",
       "4               4                    Spinach Noodle Casserole    \n",
       "...           ...                                          ...   \n",
       "20106       20125                              Parmesan Puffs    \n",
       "20107       20126              Artichoke and Parmesan Risotto    \n",
       "20108       20127                       Turkey Cream Puff Pie    \n",
       "20109       20128     Snapper on Angel Hair with Citrus Cream    \n",
       "20110       20129  Baked Ham with Marmalade-Horseradish Glaze    \n",
       "\n",
       "                                           ingredients_2  \\\n",
       "0      ['chicken', 'lentil', 'lentil', 'celery', 'pee...   \n",
       "1      ['cream', 'onion', 'salt', 'bay leaf', 'clove'...   \n",
       "2      ['fennel', 'onion', 'butter', 'potato', 'chick...   \n",
       "3      ['oil', 'onion', 'dry white wine', 'anchovy', ...   \n",
       "4      ['spinach', 'egg', 'cream', 'sauce', 'nutmeg',...   \n",
       "...                                                  ...   \n",
       "20106  ['egg', 'parmigianoreggiano finely grated', 'o...   \n",
       "20107  ['chicken', 'divided', 'oil', 'onion', 'baby a...   \n",
       "20108  ['tomato', 'onion', 'butter', 'salt', 'white m...   \n",
       "20109  ['oil', 'shallots thinly', 'clove', 'clam', 'c...   \n",
       "20110  ['ham', 'clove', 'water', 'marmalade', 'cream'...   \n",
       "\n",
       "                                           ingredients_3  \n",
       "0      ['lowsodium vegetable chicken stock', 'dried b...  \n",
       "1      ['whipping cream', 'onion', 'salt', 'bay leaf'...  \n",
       "2      ['fennel bulb sometimes called anise stalks di...  \n",
       "3      ['extravirgin olive oil', 'onion', 'dry white ...  \n",
       "4      ['ounce package frozen spinach souffl thawed',...  \n",
       "...                                                  ...  \n",
       "20106  ['egg white', 'parmigianoreggiano finely grate...  \n",
       "20107  ['lowsalt chicken broth', 'butter divided', 'e...  \n",
       "20108  ['tomato', 'onion finely', 'unsalted butter', ...  \n",
       "20109  ['olive oil', 'shallots thinly', 'garlic clove...  \n",
       "20110  ['fully cooked bonein smoked ham room temperat...  \n",
       "\n",
       "[20111 rows x 4 columns]"
      ]
     },
     "execution_count": 4,
     "metadata": {},
     "output_type": "execute_result"
    }
   ],
   "source": [
    "ingredients_recipes_listas"
   ]
  },
  {
   "cell_type": "code",
   "execution_count": 5,
   "metadata": {},
   "outputs": [
    {
     "data": {
      "text/plain": [
       "str"
      ]
     },
     "execution_count": 5,
     "metadata": {},
     "output_type": "execute_result"
    }
   ],
   "source": [
    "type(ingredients_recipes_listas['ingredients_2'][0])"
   ]
  },
  {
   "cell_type": "code",
   "execution_count": 6,
   "metadata": {},
   "outputs": [
    {
     "data": {
      "text/plain": [
       "\"['chicken', 'lentil', 'lentil', 'celery', 'peeled', 'thyme', 'salt', 'tomato', 'apple', 'lemon', 'oil', 'pepper', 'tortilla', 'turkey', 'lettuce']\""
      ]
     },
     "execution_count": 6,
     "metadata": {},
     "output_type": "execute_result"
    }
   ],
   "source": [
    "#al guardar el archivo en csv y cargarlo, las listas quedan almacenadas como strings\n",
    "ingredients_recipes_listas['ingredients_2'][0]\n"
   ]
  },
  {
   "cell_type": "code",
   "execution_count": 7,
   "metadata": {},
   "outputs": [],
   "source": [
    "#Eliminamos los caracteres especiales y separamos productos para que sea una lista\n",
    "ingredients_recipes_listas['ingredients_2'] = [re.sub(r'[^a-zA-Z ]+', '', lista) for lista in ingredients_recipes_listas['ingredients_2']]\n",
    "ingredients_recipes_listas['ingredients_2'] = [lista.split() for lista in ingredients_recipes_listas['ingredients_2']]"
   ]
  },
  {
   "cell_type": "code",
   "execution_count": 8,
   "metadata": {},
   "outputs": [
    {
     "data": {
      "text/plain": [
       "0        [chicken, lentil, lentil, celery, peeled, thym...\n",
       "1        [cream, onion, salt, bay, leaf, clove, clove, ...\n",
       "2           [fennel, onion, butter, potato, chicken, milk]\n",
       "3        [oil, onion, dry, white, wine, anchovy, oregan...\n",
       "4        [spinach, egg, cream, sauce, nutmeg, grated, s...\n",
       "                               ...                        \n",
       "20106       [egg, parmigianoreggiano, finely, grated, oil]\n",
       "20107    [chicken, divided, oil, onion, baby, artichoke...\n",
       "20108    [tomato, onion, butter, salt, white, mushrooms...\n",
       "20109    [oil, shallots, thinly, clove, clam, cream, wh...\n",
       "20110    [ham, clove, water, marmalade, cream, sugar, o...\n",
       "Name: ingredients_2, Length: 20111, dtype: object"
      ]
     },
     "execution_count": 8,
     "metadata": {},
     "output_type": "execute_result"
    }
   ],
   "source": [
    "ingredients_recipes_listas['ingredients_2']"
   ]
  },
  {
   "cell_type": "code",
   "execution_count": 9,
   "metadata": {},
   "outputs": [
    {
     "data": {
      "text/plain": [
       "list"
      ]
     },
     "execution_count": 9,
     "metadata": {},
     "output_type": "execute_result"
    }
   ],
   "source": [
    "type(ingredients_recipes_listas['ingredients_2'][0])"
   ]
  },
  {
   "cell_type": "markdown",
   "metadata": {},
   "source": [
    "### Ahora si revisamos qué ingredientes nos faltan para determinada receta\n",
    "Lo ideal es que regrese los ingredientes tal como aparecen en el dataset de recetas (con detalle)"
   ]
  },
  {
   "cell_type": "code",
   "execution_count": 129,
   "metadata": {},
   "outputs": [],
   "source": [
    "ingredients_recipes_listastest = ingredients_recipes_listas.loc[ingredients_recipes_listas['title']=='Lentil, Apple, and Turkey Wrap ']['ingredients_2']"
   ]
  },
  {
   "cell_type": "code",
   "execution_count": 130,
   "metadata": {},
   "outputs": [],
   "source": [
    "ingredients_recipes_listastest = ingredients_recipes_listas[ingredients_recipes_listas['title']=='Lentil, Apple, and Turkey Wrap ']['ingredients_2']"
   ]
  },
  {
   "cell_type": "markdown",
   "metadata": {},
   "source": [
    "### Tenemos que ver cómo convertimos lo anterior a lista úTIL"
   ]
  },
  {
   "cell_type": "code",
   "execution_count": 131,
   "metadata": {},
   "outputs": [
    {
     "data": {
      "text/plain": [
       "[['chicken',\n",
       "  'lentil',\n",
       "  'lentil',\n",
       "  'celery',\n",
       "  'peeled',\n",
       "  'thyme',\n",
       "  'salt',\n",
       "  'tomato',\n",
       "  'apple',\n",
       "  'lemon',\n",
       "  'oil',\n",
       "  'pepper',\n",
       "  'tortilla',\n",
       "  'turkey',\n",
       "  'lettuce']]"
      ]
     },
     "execution_count": 131,
     "metadata": {},
     "output_type": "execute_result"
    }
   ],
   "source": [
    "ingredients_recipes_listastest.tolist()"
   ]
  },
  {
   "cell_type": "code",
   "execution_count": 132,
   "metadata": {},
   "outputs": [
    {
     "data": {
      "text/plain": [
       "list"
      ]
     },
     "execution_count": 132,
     "metadata": {},
     "output_type": "execute_result"
    }
   ],
   "source": [
    "type(ingredients_recipes_listastest[0])"
   ]
  },
  {
   "cell_type": "code",
   "execution_count": 133,
   "metadata": {},
   "outputs": [],
   "source": [
    "#Lista de prueba.... FUNCIONÓ\n",
    "listax = ['chicken',\n",
    "  'lentil',\n",
    "  'lentil',\n",
    "  'celery',\n",
    "  'peeled',\n",
    "  'thyme',\n",
    "  'salt',\n",
    "  'tomato',\n",
    "  'apple',\n",
    "  'lemon',\n",
    "  'oil',\n",
    "  'pepper',\n",
    "  'tortilla',\n",
    "  'turkey',\n",
    "  'lettuce']"
   ]
  },
  {
   "cell_type": "code",
   "execution_count": 134,
   "metadata": {},
   "outputs": [
    {
     "data": {
      "text/plain": [
       "['chicken',\n",
       " 'lentil',\n",
       " 'lentil',\n",
       " 'celery',\n",
       " 'peeled',\n",
       " 'thyme',\n",
       " 'salt',\n",
       " 'tomato',\n",
       " 'apple',\n",
       " 'lemon',\n",
       " 'oil',\n",
       " 'pepper',\n",
       " 'tortilla',\n",
       " 'turkey',\n",
       " 'lettuce']"
      ]
     },
     "execution_count": 134,
     "metadata": {},
     "output_type": "execute_result"
    }
   ],
   "source": [
    "listax"
   ]
  },
  {
   "cell_type": "code",
   "execution_count": 135,
   "metadata": {},
   "outputs": [],
   "source": [
    "ingredients_recipes_listastest = type(ingredients_recipes_listastest)"
   ]
  },
  {
   "cell_type": "code",
   "execution_count": 136,
   "metadata": {},
   "outputs": [
    {
     "data": {
      "text/plain": [
       "['peeled', 'lettuce', 'thyme', 'turkey', 'tortilla', 'lentil', 'celery']"
      ]
     },
     "execution_count": 136,
     "metadata": {},
     "output_type": "execute_result"
    }
   ],
   "source": [
    "#Output es una lista de ingredientes que están faltan para la receta que el cliente quiera preparar\n",
    "list(set(listax) - set(ingredientes_disponibles))"
   ]
  },
  {
   "cell_type": "code",
   "execution_count": 137,
   "metadata": {},
   "outputs": [],
   "source": [
    "#ingredients_recipes_listastest = ingredients_recipes_listas.loc[ingredients_recipes_listas['title']=='Lentil, Apple, and Turkey Wrap ']['ingredients_2']\n",
    "#type(ingredients_recipes_listastest.tolist())\n",
    "#ingredients_recipes_listastest.tolist()"
   ]
  },
  {
   "cell_type": "code",
   "execution_count": 138,
   "metadata": {},
   "outputs": [],
   "source": [
    "#ingredients_recipes_listastest"
   ]
  },
  {
   "cell_type": "markdown",
   "metadata": {},
   "source": [
    "El primer paso es que el cliente seleccione la receta"
   ]
  },
  {
   "cell_type": "code",
   "execution_count": 139,
   "metadata": {},
   "outputs": [
    {
     "data": {
      "text/html": [
       "<div>\n",
       "<style scoped>\n",
       "    .dataframe tbody tr th:only-of-type {\n",
       "        vertical-align: middle;\n",
       "    }\n",
       "\n",
       "    .dataframe tbody tr th {\n",
       "        vertical-align: top;\n",
       "    }\n",
       "\n",
       "    .dataframe thead th {\n",
       "        text-align: right;\n",
       "    }\n",
       "</style>\n",
       "<table border=\"1\" class=\"dataframe\">\n",
       "  <thead>\n",
       "    <tr style=\"text-align: right;\">\n",
       "      <th></th>\n",
       "      <th>disponibilidad</th>\n",
       "    </tr>\n",
       "    <tr>\n",
       "      <th>title</th>\n",
       "      <th></th>\n",
       "    </tr>\n",
       "  </thead>\n",
       "  <tbody>\n",
       "    <tr>\n",
       "      <th>Fully Salted Roast Chicken</th>\n",
       "      <td>1.0</td>\n",
       "    </tr>\n",
       "    <tr>\n",
       "      <th>Clarified Butter</th>\n",
       "      <td>1.0</td>\n",
       "    </tr>\n",
       "    <tr>\n",
       "      <th>Simple Lemon Dressing</th>\n",
       "      <td>1.0</td>\n",
       "    </tr>\n",
       "    <tr>\n",
       "      <th>Coconut Dulce de Leche</th>\n",
       "      <td>1.0</td>\n",
       "    </tr>\n",
       "    <tr>\n",
       "      <th>Tomato Butter</th>\n",
       "      <td>1.0</td>\n",
       "    </tr>\n",
       "    <tr>\n",
       "      <th>...</th>\n",
       "      <td>...</td>\n",
       "    </tr>\n",
       "    <tr>\n",
       "      <th>D.i.y. Drinks Bar</th>\n",
       "      <td>0.0</td>\n",
       "    </tr>\n",
       "    <tr>\n",
       "      <th>Daiquiri</th>\n",
       "      <td>0.0</td>\n",
       "    </tr>\n",
       "    <tr>\n",
       "      <th>Damn the Weather I</th>\n",
       "      <td>0.0</td>\n",
       "    </tr>\n",
       "    <tr>\n",
       "      <th>Dance with a Dream</th>\n",
       "      <td>0.0</td>\n",
       "    </tr>\n",
       "    <tr>\n",
       "      <th>\"Adult\" Pimiento Cheese</th>\n",
       "      <td>0.0</td>\n",
       "    </tr>\n",
       "  </tbody>\n",
       "</table>\n",
       "<p>17775 rows × 1 columns</p>\n",
       "</div>"
      ],
      "text/plain": [
       "                             disponibilidad\n",
       "title                                      \n",
       "Fully Salted Roast Chicken              1.0\n",
       "Clarified Butter                        1.0\n",
       "Simple Lemon Dressing                   1.0\n",
       "Coconut Dulce de Leche                  1.0\n",
       "Tomato Butter                           1.0\n",
       "...                                     ...\n",
       "D.i.y. Drinks Bar                       0.0\n",
       "Daiquiri                                0.0\n",
       "Damn the Weather I                      0.0\n",
       "Dance with a Dream                      0.0\n",
       "\"Adult\" Pimiento Cheese                 0.0\n",
       "\n",
       "[17775 rows x 1 columns]"
      ]
     },
     "execution_count": 139,
     "metadata": {},
     "output_type": "execute_result"
    }
   ],
   "source": [
    "recomended_recipes"
   ]
  },
  {
   "cell_type": "code",
   "execution_count": null,
   "metadata": {},
   "outputs": [],
   "source": []
  },
  {
   "cell_type": "code",
   "execution_count": null,
   "metadata": {},
   "outputs": [],
   "source": []
  },
  {
   "cell_type": "code",
   "execution_count": null,
   "metadata": {},
   "outputs": [],
   "source": []
  },
  {
   "cell_type": "code",
   "execution_count": 140,
   "metadata": {},
   "outputs": [
    {
     "data": {
      "text/html": [
       "<div>\n",
       "<style scoped>\n",
       "    .dataframe tbody tr th:only-of-type {\n",
       "        vertical-align: middle;\n",
       "    }\n",
       "\n",
       "    .dataframe tbody tr th {\n",
       "        vertical-align: top;\n",
       "    }\n",
       "\n",
       "    .dataframe thead th {\n",
       "        text-align: right;\n",
       "    }\n",
       "</style>\n",
       "<table border=\"1\" class=\"dataframe\">\n",
       "  <thead>\n",
       "    <tr style=\"text-align: right;\">\n",
       "      <th></th>\n",
       "      <th>title</th>\n",
       "      <th>ingredients_2</th>\n",
       "      <th>disponibilidad</th>\n",
       "    </tr>\n",
       "  </thead>\n",
       "  <tbody>\n",
       "    <tr>\n",
       "      <th>0</th>\n",
       "      <td>Lentil, Apple, and Turkey Wrap</td>\n",
       "      <td>chicken</td>\n",
       "      <td>1</td>\n",
       "    </tr>\n",
       "    <tr>\n",
       "      <th>1</th>\n",
       "      <td>Lentil, Apple, and Turkey Wrap</td>\n",
       "      <td>lentil</td>\n",
       "      <td>0</td>\n",
       "    </tr>\n",
       "    <tr>\n",
       "      <th>2</th>\n",
       "      <td>Lentil, Apple, and Turkey Wrap</td>\n",
       "      <td>celery</td>\n",
       "      <td>0</td>\n",
       "    </tr>\n",
       "    <tr>\n",
       "      <th>3</th>\n",
       "      <td>Lentil, Apple, and Turkey Wrap</td>\n",
       "      <td>peeled</td>\n",
       "      <td>0</td>\n",
       "    </tr>\n",
       "    <tr>\n",
       "      <th>4</th>\n",
       "      <td>Lentil, Apple, and Turkey Wrap</td>\n",
       "      <td>thyme</td>\n",
       "      <td>0</td>\n",
       "    </tr>\n",
       "    <tr>\n",
       "      <th>...</th>\n",
       "      <td>...</td>\n",
       "      <td>...</td>\n",
       "      <td>...</td>\n",
       "    </tr>\n",
       "    <tr>\n",
       "      <th>164467</th>\n",
       "      <td>Baked Ham with Marmalade-Horseradish Glaze</td>\n",
       "      <td>water</td>\n",
       "      <td>0</td>\n",
       "    </tr>\n",
       "    <tr>\n",
       "      <th>164468</th>\n",
       "      <td>Baked Ham with Marmalade-Horseradish Glaze</td>\n",
       "      <td>marmalade</td>\n",
       "      <td>0</td>\n",
       "    </tr>\n",
       "    <tr>\n",
       "      <th>164469</th>\n",
       "      <td>Baked Ham with Marmalade-Horseradish Glaze</td>\n",
       "      <td>cream</td>\n",
       "      <td>0</td>\n",
       "    </tr>\n",
       "    <tr>\n",
       "      <th>164470</th>\n",
       "      <td>Baked Ham with Marmalade-Horseradish Glaze</td>\n",
       "      <td>sugar</td>\n",
       "      <td>1</td>\n",
       "    </tr>\n",
       "    <tr>\n",
       "      <th>164471</th>\n",
       "      <td>Baked Ham with Marmalade-Horseradish Glaze</td>\n",
       "      <td>orange</td>\n",
       "      <td>0</td>\n",
       "    </tr>\n",
       "  </tbody>\n",
       "</table>\n",
       "<p>164472 rows × 3 columns</p>\n",
       "</div>"
      ],
      "text/plain": [
       "                                              title ingredients_2  \\\n",
       "0                   Lentil, Apple, and Turkey Wrap        chicken   \n",
       "1                   Lentil, Apple, and Turkey Wrap         lentil   \n",
       "2                   Lentil, Apple, and Turkey Wrap         celery   \n",
       "3                   Lentil, Apple, and Turkey Wrap         peeled   \n",
       "4                   Lentil, Apple, and Turkey Wrap          thyme   \n",
       "...                                             ...           ...   \n",
       "164467  Baked Ham with Marmalade-Horseradish Glaze          water   \n",
       "164468  Baked Ham with Marmalade-Horseradish Glaze      marmalade   \n",
       "164469  Baked Ham with Marmalade-Horseradish Glaze          cream   \n",
       "164470  Baked Ham with Marmalade-Horseradish Glaze          sugar   \n",
       "164471  Baked Ham with Marmalade-Horseradish Glaze         orange   \n",
       "\n",
       "        disponibilidad  \n",
       "0                    1  \n",
       "1                    0  \n",
       "2                    0  \n",
       "3                    0  \n",
       "4                    0  \n",
       "...                ...  \n",
       "164467               0  \n",
       "164468               0  \n",
       "164469               0  \n",
       "164470               1  \n",
       "164471               0  \n",
       "\n",
       "[164472 rows x 3 columns]"
      ]
     },
     "execution_count": 140,
     "metadata": {},
     "output_type": "execute_result"
    }
   ],
   "source": [
    "ingredients_recipes"
   ]
  },
  {
   "cell_type": "code",
   "execution_count": null,
   "metadata": {},
   "outputs": [],
   "source": []
  }
 ],
 "metadata": {
  "kernelspec": {
   "display_name": "Python 3.10.5 64-bit (windows store)",
   "language": "python",
   "name": "python3"
  },
  "language_info": {
   "codemirror_mode": {
    "name": "ipython",
    "version": 3
   },
   "file_extension": ".py",
   "mimetype": "text/x-python",
   "name": "python",
   "nbconvert_exporter": "python",
   "pygments_lexer": "ipython3",
   "version": "3.10.5"
  },
  "orig_nbformat": 4,
  "vscode": {
   "interpreter": {
    "hash": "7c5d9596fd02523d04bc5d3a328bf74e70e6aeb1ccd4d316ed2b155df75bd2b7"
   }
  }
 },
 "nbformat": 4,
 "nbformat_minor": 2
}
