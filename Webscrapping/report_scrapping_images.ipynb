{
 "cells": [
  {
   "cell_type": "markdown",
   "metadata": {},
   "source": [
    "### Importación de librerías"
   ]
  },
  {
   "cell_type": "code",
   "execution_count": 2,
   "metadata": {},
   "outputs": [],
   "source": [
    "from selenium import webdriver  # Webscrapping bot\n",
    "from selenium.webdriver.common.by import By\n",
    "from selenium.webdriver.common.keys import Keys\n",
    "from selenium.common.exceptions import NoSuchElementException\n",
    "\n",
    "from selenium.webdriver.chrome.service import Service\n",
    "from selenium.webdriver.firefox.service import Service\n",
    "\n",
    "from selenium.webdriver.firefox.options import Options as FirefoxOptions\n",
    "from selenium.webdriver.chrome.options import Options as ChromiumOptions\n",
    "\n",
    "from selenium.webdriver.common.by import By\n",
    "\n",
    "from selenium.webdriver.support.ui import WebDriverWait\n",
    "from selenium.webdriver.support import expected_conditions as EC\n"
   ]
  },
  {
   "cell_type": "code",
   "execution_count": 3,
   "metadata": {},
   "outputs": [],
   "source": [
    "from webdriver_manager.chrome import ChromeDriverManager\n",
    "from webdriver_manager.firefox import GeckoDriverManager\n",
    "from webdriver_manager.core.utils import ChromeType"
   ]
  },
  {
   "cell_type": "code",
   "execution_count": 4,
   "metadata": {},
   "outputs": [],
   "source": [
    "import logging  # Para generar logs\n",
    "from logging.handlers import TimedRotatingFileHandler\n",
    "from logging import Formatter\n",
    "\n",
    "import datetime\n",
    "import os\n",
    "import time\n",
    "\n",
    "import urllib\n",
    "from shutil import make_archive"
   ]
  },
  {
   "cell_type": "code",
   "execution_count": 5,
   "metadata": {},
   "outputs": [],
   "source": [
    "import pandas as pd  # Manejo de dataframes"
   ]
  },
  {
   "cell_type": "code",
   "execution_count": 6,
   "metadata": {},
   "outputs": [],
   "source": [
    "from IPython.display import Image\n",
    "from IPython.core.display import HTML"
   ]
  },
  {
   "cell_type": "markdown",
   "metadata": {},
   "source": [
    "### Variables a modificar para adaptar el código"
   ]
  },
  {
   "cell_type": "markdown",
   "metadata": {},
   "source": [
    "**Principales**"
   ]
  },
  {
   "cell_type": "code",
   "execution_count": 7,
   "metadata": {},
   "outputs": [],
   "source": [
    "urlToScrap = \"https://images.google.com/\"\n",
    "numberImagesTaken = 5\n",
    "\n",
    "pathToDF = \"\"\n",
    "fileToDF = \"https://www.dropbox.com/s/fsmrn97gbdmoznh/input_scrapping_images.csv?raw=1\"\n",
    "colTarget = 0\n",
    "\n",
    "nameOutput = \"output_scrapping_images.csv\"\n",
    "nameInter = \"inter_scrapping_images.csv\"\n",
    "\n",
    "webdriverToUse = \"firefox\"\n",
    "\n",
    "logPath = \"webscrapping-resources/logs/\"\n",
    "imagesPath = \"webscrapping-resources/images/\"\n",
    "\n",
    "deleteOldLogs = True\n",
    "enableFullErrors = True\n",
    "takeScreenshot = False\n",
    "downloadImages = True\n",
    "compressImages = True\n",
    "linkWebCSV = True\n"
   ]
  },
  {
   "cell_type": "markdown",
   "metadata": {},
   "source": [
    "**Firefox y Chromium**"
   ]
  },
  {
   "cell_type": "code",
   "execution_count": 8,
   "metadata": {},
   "outputs": [],
   "source": [
    "privacyButton = \"/html/body/div[2]/div[2]/div[3]/span/div/div/div/div[3]/div[1]/button[2]/div\"\n",
    "searchImageBar = \"/html/body/div[1]/div[3]/form/div[1]/div[1]/div[1]/div/div[2]/input\"\n",
    "selectDefImage = '/html/body/div[2]/c-wiz/div[3]/div[2]/div[3]/div/div/div[3]/div[2]/c-wiz/div/div[1]/div[1]/div[3]/div/a/img'"
   ]
  },
  {
   "cell_type": "markdown",
   "metadata": {},
   "source": [
    "### Pequeñas funciones de apoyo"
   ]
  },
  {
   "cell_type": "code",
   "execution_count": 9,
   "metadata": {},
   "outputs": [],
   "source": [
    "# Esta función se ha creado para mejorar comprensión de código en la configuración de logs\n",
    "\n",
    "def UTCFormatter(logFormatter):\n",
    "    '''\n",
    "    Recibe un formatter de logueo\n",
    "    Devuelve el horario a tiempo GMT\n",
    "    '''\n",
    "    logFormatter.converter = time.gmtime\n",
    "    return logFormatter\n",
    "\n",
    "\n",
    "def pathChecker(path):\n",
    "    '''\n",
    "    Recibe una ruta\n",
    "    Crea la ruta en local si no es encontrada\n",
    "    '''\n",
    "    isExist = os.path.exists(path)\n",
    "    if isExist == False:\n",
    "        os.makedirs(path)\n",
    "        print(path + \" created\")\n"
   ]
  },
  {
   "cell_type": "markdown",
   "metadata": {},
   "source": [
    "### Comprobaciones de rutas"
   ]
  },
  {
   "cell_type": "code",
   "execution_count": 10,
   "metadata": {},
   "outputs": [],
   "source": [
    "pathChecker(logPath)\n",
    "pathChecker(imagesPath)"
   ]
  },
  {
   "cell_type": "markdown",
   "metadata": {},
   "source": [
    "### Configuración de logs"
   ]
  },
  {
   "cell_type": "code",
   "execution_count": 11,
   "metadata": {},
   "outputs": [],
   "source": [
    "# Se inicia el proceso de registro de logs a nivel de INFO.\n",
    "logger = logging.getLogger('ScrapLog')\n",
    "logger.setLevel(logging.INFO)\n",
    "\n",
    "# Variables que determinan apartados posteriores\n",
    "timestamp = datetime.datetime.utcnow().strftime('%Y%m%d_%H-%M-%S')\n",
    "filename = f'ScrapImages{timestamp}.log'\n",
    "formatter = logging.Formatter(\n",
    "    '[%(asctime)s] %(name)s {%(filename)s:%(lineno)d} %(levelname)s - %(message)s')\n"
   ]
  },
  {
   "cell_type": "code",
   "execution_count": 12,
   "metadata": {},
   "outputs": [],
   "source": [
    "'''\n",
    "Indican como se debe crear el archivo de log\n",
    "Si \"deleteOldLogs\" es True, sólo se conservará el último archivo de log\n",
    "'''\n",
    "if deleteOldLogs == True:\n",
    "    listFilesinCWD = os.listdir(logPath)\n",
    "    workPath = os.getcwd()\n",
    "    os.chdir(logPath)\n",
    "    for element in listFilesinCWD:\n",
    "        if element.endswith(\".log\"):\n",
    "            os.remove(os.path.join(os.getcwd(), element))\n",
    "        if element.endswith(\".png\"):\n",
    "            os.remove(os.path.join(os.getcwd(), element))\n",
    "    os.chdir(workPath)\n"
   ]
  },
  {
   "cell_type": "code",
   "execution_count": 13,
   "metadata": {},
   "outputs": [],
   "source": [
    "fileHandler = logging.FileHandler(filename=f\"{logPath}{filename}\")\n",
    "logging.Formatter.converter = time.gmtime\n",
    "\n",
    "fileHandler.setLevel(logging.INFO)\n",
    "fileHandler.setFormatter(UTCFormatter(formatter))\n",
    "logger.addHandler(fileHandler)"
   ]
  },
  {
   "cell_type": "markdown",
   "metadata": {},
   "source": [
    "### Importación de datos"
   ]
  },
  {
   "cell_type": "markdown",
   "metadata": {},
   "source": [
    "Se importa el dataset especificado en las variables generales definidas anteriormente."
   ]
  },
  {
   "cell_type": "code",
   "execution_count": 14,
   "metadata": {},
   "outputs": [],
   "source": [
    "if linkWebCSV:\n",
    "    df = pd.read_csv(fileToDF)\n",
    "else:\n",
    "    df = pd.read_csv(f\"{pathToDF}{fileToDF}\")\n",
    "    # df.drop(columns=df.columns[0], axis=1, inplace=True)"
   ]
  },
  {
   "cell_type": "markdown",
   "metadata": {},
   "source": [
    "Comprobación de tamaño y composición del dataset importado como dataframe de Pandas."
   ]
  },
  {
   "cell_type": "code",
   "execution_count": 17,
   "metadata": {},
   "outputs": [
    {
     "name": "stdout",
     "output_type": "stream",
     "text": [
      "(2779, 1)\n"
     ]
    },
    {
     "data": {
      "text/html": [
       "<div>\n",
       "<style scoped>\n",
       "    .dataframe tbody tr th:only-of-type {\n",
       "        vertical-align: middle;\n",
       "    }\n",
       "\n",
       "    .dataframe tbody tr th {\n",
       "        vertical-align: top;\n",
       "    }\n",
       "\n",
       "    .dataframe thead th {\n",
       "        text-align: right;\n",
       "    }\n",
       "</style>\n",
       "<table border=\"1\" class=\"dataframe\">\n",
       "  <thead>\n",
       "    <tr style=\"text-align: right;\">\n",
       "      <th></th>\n",
       "      <th>0</th>\n",
       "    </tr>\n",
       "  </thead>\n",
       "  <tbody>\n",
       "    <tr>\n",
       "      <th>1800</th>\n",
       "      <td>Perejil ultracongelado Carrefour 50 g.</td>\n",
       "    </tr>\n",
       "    <tr>\n",
       "      <th>1801</th>\n",
       "      <td>Albahaca  en hoja Carrefour 15 g.</td>\n",
       "    </tr>\n",
       "    <tr>\n",
       "      <th>1802</th>\n",
       "      <td>Ajo y perejíl Especias tarrina 30 g</td>\n",
       "    </tr>\n",
       "    <tr>\n",
       "      <th>1803</th>\n",
       "      <td>Molinillo pimienta negra en grano Carrefour 45 g.</td>\n",
       "    </tr>\n",
       "    <tr>\n",
       "      <th>1804</th>\n",
       "      <td>Ajo en polvo Carmencita 60 g.</td>\n",
       "    </tr>\n",
       "  </tbody>\n",
       "</table>\n",
       "</div>"
      ],
      "text/plain": [
       "                                                      0\n",
       "1800             Perejil ultracongelado Carrefour 50 g.\n",
       "1801                  Albahaca  en hoja Carrefour 15 g.\n",
       "1802                Ajo y perejíl Especias tarrina 30 g\n",
       "1803  Molinillo pimienta negra en grano Carrefour 45 g.\n",
       "1804                      Ajo en polvo Carmencita 60 g."
      ]
     },
     "execution_count": 17,
     "metadata": {},
     "output_type": "execute_result"
    }
   ],
   "source": [
    "print(df.shape)\n",
    "df.head()"
   ]
  },
  {
   "cell_type": "markdown",
   "metadata": {},
   "source": [
    "### Lógica del Scrapping"
   ]
  },
  {
   "cell_type": "markdown",
   "metadata": {},
   "source": [
    "La siguiente función otorga soporte para scrapear varias imágenes por producto."
   ]
  },
  {
   "cell_type": "code",
   "execution_count": 15,
   "metadata": {},
   "outputs": [],
   "source": [
    "def SelectImageSearched(numberImage):\n",
    "    imageSearched = f\"/html/body/div[2]/c-wiz/div[3]/div[1]/div/div/div/div[1]/div[1]/span/div[1]/div[1]/div[{numberImage}]/a[1]/div[1]/img\"\n",
    "    return imageSearched"
   ]
  },
  {
   "cell_type": "markdown",
   "metadata": {},
   "source": [
    "La siguiente función obtiene la url del primer resultado que aparece en google imágenes con el nombre del producto que recibe."
   ]
  },
  {
   "cell_type": "code",
   "execution_count": 16,
   "metadata": {},
   "outputs": [],
   "source": [
    "def ScrapFunction(position, prodToScrap, urlToScrap, driver, numberImage):\n",
    "    try:\n",
    "\n",
    "        logger.info(f\"Started with: {prodToScrap} and {numberImage} iteration\")\n",
    "                \n",
    "        driver.get(urlToScrap)\n",
    "        \n",
    "        if position == 0 and numberImage==1:\n",
    "            driver.find_element(By.XPATH, privacyButton).click()\n",
    "\n",
    "        selectImageBox=driver.find_element(By.XPATH, searchImageBar)\n",
    "        selectImageBox.send_keys(prodToScrap)\n",
    "        selectImageBox.send_keys(Keys.ENTER)\n",
    "\n",
    "        time.sleep(1)\n",
    "        driver.find_element(By.XPATH, SelectImageSearched(numberImage)).click()\n",
    "        time.sleep(1)\n",
    "        \n",
    "        urlImage = WebDriverWait(driver, 10).until(EC.presence_of_element_located((By.XPATH, selectDefImage))).get_attribute(\"src\")\n",
    "\n",
    "        logger.info(f\"Scrapped: {urlImage}\")\n",
    "\n",
    "        if takeScreenshot:\n",
    "            driver.save_screenshot(f\"{logPath}Selenium-Progress.png\")\n",
    "\n",
    "        if downloadImages:\n",
    "            pathChecker(imagesPath + prodToScrap)\n",
    "            urllib.request.urlretrieve(urlImage, f\"{imagesPath}{prodToScrap}/{prodToScrap}-{numberImage}.png\")\n",
    "            \n",
    "        return urlImage\n",
    "\n",
    "    except:\n",
    "        if enableFullErrors:\n",
    "            logger.exception('')\n",
    "            if position == 0:\n",
    "                driver.save_screenshot(f\"{logPath}Selenium-CrashBrowser.png\")  \n",
    "        else:\n",
    "            logger.info(f\"FUNCTIONERROR: {prodToScrap}\")\n",
    "        return None"
   ]
  },
  {
   "cell_type": "markdown",
   "metadata": {},
   "source": [
    "**Ejecución de Selenium**. Tiene configurado tanto webdriver de *Chromium* como de *Firefox* por cuestiones de *debugging* (especialmente en términos de rendimiento). Finalmente se empleó geckodriver con *Firefox* (definido en variables generales anteriormente) en una instancia 'C2-standard-4' de *Google Cloud* con una duración total de 28 horas de cálculo."
   ]
  },
  {
   "cell_type": "markdown",
   "metadata": {},
   "source": [
    "El siguiente código traslada los nombres de los productos de uno en uno a la función anterior de Scrapeo y, con la url obtenida, lo graba en la columna generada \"url\" en el índice apropiado."
   ]
  },
  {
   "cell_type": "code",
   "execution_count": 17,
   "metadata": {},
   "outputs": [
    {
     "name": "stdout",
     "output_type": "stream",
     "text": [
      "Starting Webscrapping!\n",
      "\n",
      "webscrapping-resources/images/Picada de vacuno ecológico Carrefour Bio 400 g created\n",
      "webscrapping-resources/images/Hamburguesa de vacuno ecológica sin gluten y sin lactosa Carrefour Bio 2x120 g created\n",
      "webscrapping-resources/images/Carpaccio de vacuno ecológico Carrefour Bio 120 g aprox created\n"
     ]
    }
   ],
   "source": [
    "print(\"Starting Webscrapping!\")\n",
    "\n",
    "if webdriverToUse != \"firefox\":\n",
    "    ser = Service(executable_path=ChromeDriverManager(chrome_type=ChromeType.CHROMIUM).install(), log_path=f\"{logPath}selenium.log\")\n",
    "    opts = ChromiumOptions()\n",
    "    opts.headless = True\n",
    "    opts.add_argument(\"--no-sandbox\")\n",
    "    opts.add_argument(\"--incognito\")\n",
    "    opts.add_argument(\"--headless\")\n",
    "    opts.add_argument(\"--window-size=1920,1080\")\n",
    "\n",
    "    driver = webdriver.Chrome(service=ser, options=opts)\n",
    "\n",
    "else:\n",
    "    ser = Service(executable_path=GeckoDriverManager().install(), log_path=f\"{logPath}geckodriver.log\")\n",
    "    opts = FirefoxOptions()\n",
    "    opts.add_argument(\"--no-sandbox\")\n",
    "    opts.add_argument(\"start-maximized\")\n",
    "    opts.add_argument(\"--headless\")\n",
    "    \n",
    "    driver = webdriver.Firefox(service=ser, options=opts)\n",
    "\n",
    "driver.implicitly_wait(10)\n",
    "driver.set_page_load_timeout(30)\n",
    "driver.set_window_size(1920, 1080)\n",
    "\n",
    "\n",
    "for position, element in enumerate(df[f\"{colTarget}\"].tolist()):\n",
    "    for element2 in range(1,numberImagesTaken):\n",
    "        urlScrapped = ScrapFunction(position, element, urlToScrap, driver, element2)\n",
    "        df.loc[df.index[position], f'url{element2}'] = urlScrapped\n",
    "        if position % 10:\n",
    "            df.to_csv(nameInter)\n",
    "    if position % 10:\n",
    "        df.to_csv(nameInter)\n",
    "\n",
    "if compressImages:\n",
    "    make_archive('compressed_output_scrapping_images', 'zip', root_dir=imagesPath)"
   ]
  },
  {
   "cell_type": "code",
   "execution_count": 16,
   "metadata": {},
   "outputs": [
    {
     "data": {
      "text/html": [
       "<div>\n",
       "<style scoped>\n",
       "    .dataframe tbody tr th:only-of-type {\n",
       "        vertical-align: middle;\n",
       "    }\n",
       "\n",
       "    .dataframe tbody tr th {\n",
       "        vertical-align: top;\n",
       "    }\n",
       "\n",
       "    .dataframe thead th {\n",
       "        text-align: right;\n",
       "    }\n",
       "</style>\n",
       "<table border=\"1\" class=\"dataframe\">\n",
       "  <thead>\n",
       "    <tr style=\"text-align: right;\">\n",
       "      <th></th>\n",
       "      <th>0</th>\n",
       "      <th>url1</th>\n",
       "      <th>url2</th>\n",
       "      <th>url3</th>\n",
       "      <th>url4</th>\n",
       "    </tr>\n",
       "  </thead>\n",
       "  <tbody>\n",
       "    <tr>\n",
       "      <th>0</th>\n",
       "      <td>Picada de vacuno ecológico Carrefour Bio 400 g</td>\n",
       "      <td>data:image/jpeg;base64,/9j/4AAQSkZJRgABAQAAAQA...</td>\n",
       "      <td>https://static.carrefour.es/hd_510x_/img_pim_f...</td>\n",
       "      <td>https://a2.soysuper.com/696e522b4ad34a20e9d73f...</td>\n",
       "      <td>https://thefoodplease.com/wp-content/uploads/2...</td>\n",
       "    </tr>\n",
       "    <tr>\n",
       "      <th>1</th>\n",
       "      <td>Hamburguesa de vacuno ecológica sin gluten y s...</td>\n",
       "      <td>data:image/jpeg;base64,/9j/4AAQSkZJRgABAQAAAQA...</td>\n",
       "      <td>https://static.carrefour.es/hd_510x_/img_pim_f...</td>\n",
       "      <td>https://static.carrefour.es/hd_510x_/img_pim_f...</td>\n",
       "      <td>https://dmerka.com/wp-content/uploads/2021/01/...</td>\n",
       "    </tr>\n",
       "    <tr>\n",
       "      <th>2</th>\n",
       "      <td>Carpaccio de vacuno ecológico Carrefour Bio 12...</td>\n",
       "      <td>https://static.carrefour.es/hd_510x_/img_pim_f...</td>\n",
       "      <td>https://static.carrefour.es/hd_510x_/img_pim_f...</td>\n",
       "      <td>https://dmerka.com/wp-content/uploads/2021/01/...</td>\n",
       "      <td>https://d2ohdpvxj0yo9f.cloudfront.net/products...</td>\n",
       "    </tr>\n",
       "    <tr>\n",
       "      <th>3</th>\n",
       "      <td>Filete 1ªA de añojo ecológico Carrefour Bio 50...</td>\n",
       "      <td>https://static.carrefour.es/hd_510x_/img_pim_f...</td>\n",
       "      <td>data:image/jpeg;base64,/9j/4AAQSkZJRgABAQAAAQA...</td>\n",
       "      <td>https://static.carrefour.es/hd_350x_/img_pim_f...</td>\n",
       "      <td>https://d2ohdpvxj0yo9f.cloudfront.net/products...</td>\n",
       "    </tr>\n",
       "    <tr>\n",
       "      <th>4</th>\n",
       "      <td>Entrecot de añojo ecológico Carrefour Bio 500 ...</td>\n",
       "      <td>data:image/jpeg;base64,/9j/4AAQSkZJRgABAQAAAQA...</td>\n",
       "      <td>https://dmerka.com/wp-content/uploads/2021/01/...</td>\n",
       "      <td>https://static.carrefour.es/hd_510x_/img_pim_f...</td>\n",
       "      <td>https://static.carrefour.es/hd_510x_/img_pim_f...</td>\n",
       "    </tr>\n",
       "  </tbody>\n",
       "</table>\n",
       "</div>"
      ],
      "text/plain": [
       "                                                   0  \\\n",
       "0     Picada de vacuno ecológico Carrefour Bio 400 g   \n",
       "1  Hamburguesa de vacuno ecológica sin gluten y s...   \n",
       "2  Carpaccio de vacuno ecológico Carrefour Bio 12...   \n",
       "3  Filete 1ªA de añojo ecológico Carrefour Bio 50...   \n",
       "4  Entrecot de añojo ecológico Carrefour Bio 500 ...   \n",
       "\n",
       "                                                url1  \\\n",
       "0  data:image/jpeg;base64,/9j/4AAQSkZJRgABAQAAAQA...   \n",
       "1  data:image/jpeg;base64,/9j/4AAQSkZJRgABAQAAAQA...   \n",
       "2  https://static.carrefour.es/hd_510x_/img_pim_f...   \n",
       "3  https://static.carrefour.es/hd_510x_/img_pim_f...   \n",
       "4  data:image/jpeg;base64,/9j/4AAQSkZJRgABAQAAAQA...   \n",
       "\n",
       "                                                url2  \\\n",
       "0  https://static.carrefour.es/hd_510x_/img_pim_f...   \n",
       "1  https://static.carrefour.es/hd_510x_/img_pim_f...   \n",
       "2  https://static.carrefour.es/hd_510x_/img_pim_f...   \n",
       "3  data:image/jpeg;base64,/9j/4AAQSkZJRgABAQAAAQA...   \n",
       "4  https://dmerka.com/wp-content/uploads/2021/01/...   \n",
       "\n",
       "                                                url3  \\\n",
       "0  https://a2.soysuper.com/696e522b4ad34a20e9d73f...   \n",
       "1  https://static.carrefour.es/hd_510x_/img_pim_f...   \n",
       "2  https://dmerka.com/wp-content/uploads/2021/01/...   \n",
       "3  https://static.carrefour.es/hd_350x_/img_pim_f...   \n",
       "4  https://static.carrefour.es/hd_510x_/img_pim_f...   \n",
       "\n",
       "                                                url4  \n",
       "0  https://thefoodplease.com/wp-content/uploads/2...  \n",
       "1  https://dmerka.com/wp-content/uploads/2021/01/...  \n",
       "2  https://d2ohdpvxj0yo9f.cloudfront.net/products...  \n",
       "3  https://d2ohdpvxj0yo9f.cloudfront.net/products...  \n",
       "4  https://static.carrefour.es/hd_510x_/img_pim_f...  "
      ]
     },
     "execution_count": 16,
     "metadata": {},
     "output_type": "execute_result"
    }
   ],
   "source": [
    "# Chequeo preliminar de resultados obtenidos\n",
    "df.head()"
   ]
  },
  {
   "cell_type": "code",
   "execution_count": 18,
   "metadata": {},
   "outputs": [
    {
     "data": {
      "text/html": [
       "<img src=\"data:image/jpeg;base64,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\"/>"
      ],
      "text/plain": [
       "<IPython.core.display.Image object>"
      ]
     },
     "execution_count": 18,
     "metadata": {},
     "output_type": "execute_result"
    }
   ],
   "source": [
    "Image(url=df[\"url1\"][0])"
   ]
  },
  {
   "cell_type": "markdown",
   "metadata": {},
   "source": [
    "### Exportación de resultados a formato CSV"
   ]
  },
  {
   "cell_type": "code",
   "execution_count": null,
   "metadata": {},
   "outputs": [],
   "source": [
    "# Importante no eliminar \"index=False\" para mantener homogeneidad de los datos.\n",
    "df.to_csv(nameOutput, index=False)"
   ]
  }
 ],
 "metadata": {
  "kernelspec": {
   "display_name": "Python 3.10.6 64-bit",
   "language": "python",
   "name": "python3"
  },
  "language_info": {
   "codemirror_mode": {
    "name": "ipython",
    "version": 3
   },
   "file_extension": ".py",
   "mimetype": "text/x-python",
   "name": "python",
   "nbconvert_exporter": "python",
   "pygments_lexer": "ipython3",
   "version": "3.10.6"
  },
  "orig_nbformat": 4,
  "vscode": {
   "interpreter": {
    "hash": "e7370f93d1d0cde622a1f8e1c04877d8463912d04d973331ad4851f04de6915a"
   }
  }
 },
 "nbformat": 4,
 "nbformat_minor": 2
}
